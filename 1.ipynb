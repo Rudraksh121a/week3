{
 "cells": [
  {
   "cell_type": "raw",
   "id": "a17df281-cf4b-4a84-adbc-ed657bf43584",
   "metadata": {},
   "source": [
    "Q1. Which keyword is used to create a function? Create a function to return a list of odd numbers in the\n",
    " range of 1 to 25"
   ]
  },
  {
   "cell_type": "code",
   "execution_count": 1,
   "id": "ea74841f-4d5e-4d5b-a471-c76eb11a5191",
   "metadata": {},
   "outputs": [],
   "source": [
    "# we use def to create a function\n",
    "list=[*range(1,26,1)]"
   ]
  },
  {
   "cell_type": "code",
   "execution_count": 2,
   "id": "168a2bbb-1403-4e2d-865f-8c99f6631fd6",
   "metadata": {},
   "outputs": [
    {
     "data": {
      "text/plain": [
       "[1,\n",
       " 2,\n",
       " 3,\n",
       " 4,\n",
       " 5,\n",
       " 6,\n",
       " 7,\n",
       " 8,\n",
       " 9,\n",
       " 10,\n",
       " 11,\n",
       " 12,\n",
       " 13,\n",
       " 14,\n",
       " 15,\n",
       " 16,\n",
       " 17,\n",
       " 18,\n",
       " 19,\n",
       " 20,\n",
       " 21,\n",
       " 22,\n",
       " 23,\n",
       " 24,\n",
       " 25]"
      ]
     },
     "execution_count": 2,
     "metadata": {},
     "output_type": "execute_result"
    }
   ],
   "source": [
    "list"
   ]
  },
  {
   "cell_type": "code",
   "execution_count": 14,
   "id": "dbd5a09e-2110-459e-844f-2a844207dc19",
   "metadata": {},
   "outputs": [],
   "source": [
    "def odd(list):\n",
    "    for i in list :\n",
    "        if(i%2!=0):\n",
    "            print(i)"
   ]
  },
  {
   "cell_type": "code",
   "execution_count": 20,
   "id": "29a79149-190e-48ce-bdc3-a9d86b2d730d",
   "metadata": {},
   "outputs": [
    {
     "name": "stdout",
     "output_type": "stream",
     "text": [
      "1\n",
      "3\n",
      "5\n",
      "7\n",
      "9\n",
      "11\n",
      "13\n",
      "15\n",
      "17\n",
      "19\n",
      "21\n",
      "23\n",
      "25\n"
     ]
    }
   ],
   "source": [
    "odd(list)"
   ]
  },
  {
   "cell_type": "raw",
   "id": "af8bd50a-35e5-41da-b16f-d6a1ef63db8e",
   "metadata": {},
   "source": [
    "Q2. Why *args and **kwargs is used in some functions? Create a function each for *args and **kwargs\n",
    "to demonstrate their use."
   ]
  },
  {
   "cell_type": "code",
   "execution_count": 1,
   "id": "79fa49c3-c4e0-4245-8995-de790f6c8be8",
   "metadata": {},
   "outputs": [],
   "source": [
    "#*args and **kwargs are special syntax in Python used in function definitions to pass a variable number of arguments to a function."
   ]
  },
  {
   "cell_type": "code",
   "execution_count": 2,
   "id": "16a95cb9-2bc8-4eed-b76b-86f7c18d1050",
   "metadata": {},
   "outputs": [
    {
     "name": "stdout",
     "output_type": "stream",
     "text": [
      "1\n",
      "2\n",
      "3\n",
      "a 1\n",
      "b 2\n",
      "c 3\n"
     ]
    }
   ],
   "source": [
    "def function_with_args(*args):\n",
    "    for arg in args:\n",
    "        print(arg)\n",
    "def function_with_kwargs(**kwargs):\n",
    "    for key, value in kwargs.items():\n",
    "        print(key, value)\n",
    "# Using the functions\n",
    "function_with_args(1, 2, 3)\n",
    "function_with_kwargs(a=1, b=2, c=3)"
   ]
  },
  {
   "cell_type": "raw",
   "id": "cc5edf7b-5858-4782-8add-ea62b32de15e",
   "metadata": {},
   "source": [
    "Q3.  What is an iterator in python? Name the method used to initialise the iterator object and the method \n",
    "used for iteration. Use these methods to print the first five elements of the given list [2, 4, 6, 8, 10, 12, 14, \n",
    "16, 18, 20]\n"
   ]
  },
  {
   "cell_type": "code",
   "execution_count": 5,
   "id": "bd826c37-f23e-4b71-a516-0ac0c260e5fe",
   "metadata": {},
   "outputs": [
    {
     "name": "stdout",
     "output_type": "stream",
     "text": [
      "2\n",
      "4\n",
      "6\n",
      "8\n",
      "10\n"
     ]
    }
   ],
   "source": [
    "my_list = [2, 4, 6, 8, 10, 12, 14, 16, 18, 20]\n",
    "iterator = iter(my_list)\n",
    "for _ in range(5):\n",
    "    element = next(iterator)\n",
    "    print(element)\n",
    "    \n",
    "    \n"
   ]
  },
  {
   "cell_type": "raw",
   "id": "d5808d82-28f3-4b83-963f-0689173b491c",
   "metadata": {},
   "source": [
    "Q4.  What is a generator function in python? Why yield keyword is used? Give an example of a generator \n",
    "function."
   ]
  },
  {
   "cell_type": "raw",
   "id": "29ddcce7-a206-4190-9deb-610669256624",
   "metadata": {},
   "source": [
    "A generator function in Python is a special type of function that generates values one at a time using the yield keyword. Unlike regular functions that return a value and terminate, a generator function can be paused and resumed, allowing you to generate values lazily as they are needed. This can be more memory-efficient and faster for large datasets or infinite sequences."
   ]
  },
  {
   "cell_type": "code",
   "execution_count": 6,
   "id": "bac447d9-6595-4493-a513-771e084c212b",
   "metadata": {},
   "outputs": [
    {
     "name": "stdout",
     "output_type": "stream",
     "text": [
      "0\n",
      "2\n",
      "4\n",
      "6\n",
      "8\n"
     ]
    }
   ],
   "source": [
    "def even_numbers(n):\n",
    "    for i in range(n):\n",
    "        if i % 2 == 0:\n",
    "            yield i\n",
    "# Using the generator function\n",
    "even_gen = even_numbers(10)\n",
    "for num in even_gen:\n",
    "    print(num)"
   ]
  },
  {
   "cell_type": "raw",
   "id": "9cdd8838-b146-4f00-a13c-8d8f0a40939e",
   "metadata": {},
   "source": [
    "Create a generator function for prime numbers less than 1000. Use the next() method to print the \n",
    "first 20 prime numbers."
   ]
  },
  {
   "cell_type": "code",
   "execution_count": 7,
   "id": "8c79cc58-ea33-4c42-a038-7b39bceb82a8",
   "metadata": {},
   "outputs": [
    {
     "name": "stdout",
     "output_type": "stream",
     "text": [
      "2\n",
      "3\n",
      "5\n",
      "7\n",
      "11\n",
      "13\n",
      "17\n",
      "19\n",
      "23\n",
      "29\n",
      "31\n",
      "37\n",
      "41\n",
      "43\n",
      "47\n",
      "53\n",
      "59\n",
      "61\n",
      "67\n",
      "71\n"
     ]
    }
   ],
   "source": [
    "def is_prime(num):\n",
    "    if num <= 1:\n",
    "        return False\n",
    "    for i in range(2, int(num ** 0.5) + 1):\n",
    "        if num % i == 0:\n",
    "            return False\n",
    "    return True\n",
    "def prime_generator(limit):\n",
    "    num = 2\n",
    "    while num < limit:\n",
    "        if is_prime(num):\n",
    "            yield num\n",
    "        num += 1\n",
    "# Using the generator function to print the first 20 prime numbers\n",
    "prime_gen = prime_generator(1000)\n",
    "for _ in range(20):\n",
    "    prime = next(prime_gen)\n",
    "    print(prime)"
   ]
  },
  {
   "cell_type": "raw",
   "id": "cf83849f-a8ba-44ce-a12c-43a918013c3c",
   "metadata": {},
   "source": [
    "Q6. Write a python program to print the first 10 Fibonacci numbers using a while loop."
   ]
  },
  {
   "cell_type": "code",
   "execution_count": 8,
   "id": "52cd7866-ee4e-40f2-9d7a-bf2b17c838f5",
   "metadata": {},
   "outputs": [
    {
     "name": "stdout",
     "output_type": "stream",
     "text": [
      "0\n",
      "1\n",
      "1\n",
      "2\n",
      "3\n",
      "5\n",
      "8\n",
      "13\n",
      "21\n",
      "34\n"
     ]
    }
   ],
   "source": [
    "def fibonacci_sequence(n):\n",
    "    fib_list = []\n",
    "    a, b = 0, 1\n",
    "    while len(fib_list) < n:\n",
    "        fib_list.append(a)\n",
    "        a, b = b, a + b\n",
    "    return fib_list\n",
    "# Printing the first 10 Fibonacci numbers using a while loop\n",
    "fibonacci_numbers = fibonacci_sequence(10)\n",
    "for num in fibonacci_numbers:\n",
    "    print(num)"
   ]
  },
  {
   "cell_type": "raw",
   "id": "03ea2209-6757-4f00-af7c-e654596f7833",
   "metadata": {},
   "source": [
    "Write a List Comprehension to iterate through the given string: ‘pwskills’.\n",
    "\n",
    "Expected output: ['p', 'w', 's', 'k', 'i', 'l', 'l', 's']"
   ]
  },
  {
   "cell_type": "code",
   "execution_count": 10,
   "id": "8cbdb135-89ae-4849-b8eb-443d3b8a814c",
   "metadata": {},
   "outputs": [
    {
     "name": "stdout",
     "output_type": "stream",
     "text": [
      "['p', 'w', 's', 'k', 'i', 'l', 'l', 's']\n"
     ]
    }
   ],
   "source": [
    "input_string = 'pwskills'\n",
    "output_list = [char for char in input_string if char in 'pwskil']\n",
    "print(output_list)"
   ]
  },
  {
   "cell_type": "raw",
   "id": "dfa01b49-089b-4775-8e26-89349bccb227",
   "metadata": {},
   "source": [
    "Q8. Write a python program to check whether a given number is Palindrome or not using a while loop."
   ]
  },
  {
   "cell_type": "code",
   "execution_count": null,
   "id": "aec773c2-e020-4cef-8848-931922b8b0dd",
   "metadata": {},
   "outputs": [],
   "source": [
    "def is_palindrome(num):\n",
    "    original_num = num\n",
    "    reversed_num = 0\n",
    "    while num > 0:\n",
    "        digit = num % 10\n",
    "        reversed_num = reversed_num * 10 + digit\n",
    "        num //= 10\n",
    "    return original_num == reversed_num\n",
    "num = int(input(\"Enter a number: \"))\n",
    "if is_palindrome(num):\n",
    "    print(f\"{num} is a palindrome.\")\n",
    "else:\n",
    "    print(f\"{num} is not a palindrome.\")"
   ]
  },
  {
   "cell_type": "raw",
   "id": "1bf68571-2117-4628-88cc-a4bd7bb88ba3",
   "metadata": {},
   "source": []
  },
  {
   "cell_type": "raw",
   "id": "85b53761-7779-4965-816a-00b9a6f4b58c",
   "metadata": {},
   "source": [
    "Q9. Write a code to print odd numbers from 1 to 100 using list comprehension.\n",
    "\n",
    "Note: Use a list comprehension to create a list from 1 to 100 and use another List comprehension to filter \n",
    "out odd number"
   ]
  },
  {
   "cell_type": "code",
   "execution_count": null,
   "id": "925aad19-8d7e-4034-b3cb-3cee0c9fdf1c",
   "metadata": {},
   "outputs": [],
   "source": [
    "numbers = [i for i in range(1, 101)]\n",
    "odd_numbers = [num for num in numbers if num % 2 != 0]\n",
    "# Printing the list of odd numbers\n",
    "print(odd_numbers)"
   ]
  }
 ],
 "metadata": {
  "kernelspec": {
   "display_name": "Python 3 (ipykernel)",
   "language": "python",
   "name": "python3"
  },
  "language_info": {
   "codemirror_mode": {
    "name": "ipython",
    "version": 3
   },
   "file_extension": ".py",
   "mimetype": "text/x-python",
   "name": "python",
   "nbconvert_exporter": "python",
   "pygments_lexer": "ipython3",
   "version": "3.10.8"
  }
 },
 "nbformat": 4,
 "nbformat_minor": 5
}
