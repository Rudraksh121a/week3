{
 "cells": [
  {
   "cell_type": "raw",
   "id": "0902b8c3-7752-407c-b8f0-d1366ead839e",
   "metadata": {},
   "source": [
    "Q1. Create a python program to sort the given list of tuples based on integer value using a \n",
    "lambda function. \n",
    "\n",
    "[('Sachin Tendulkar', 34357), ('Ricky Ponting', 27483), ('Jack Kallis', 25534), ('Virat Kohli', 24936)]"
   ]
  },
  {
   "cell_type": "code",
   "execution_count": 1,
   "id": "de6ea23d-179d-4e0c-8532-0af38c8b35b7",
   "metadata": {},
   "outputs": [],
   "source": [
    "list=[('Sachin Tendulkar', 34357), ('Ricky Ponting', 27483), ('Jack Kallis', 25534), ('Virat Kohli', 24936)]\n"
   ]
  },
  {
   "cell_type": "code",
   "execution_count": 2,
   "id": "e336aea9-b39e-4549-9ace-bbc9f5b5b1b8",
   "metadata": {},
   "outputs": [
    {
     "data": {
      "text/plain": [
       "[('Sachin Tendulkar', 34357),\n",
       " ('Ricky Ponting', 27483),\n",
       " ('Jack Kallis', 25534),\n",
       " ('Virat Kohli', 24936)]"
      ]
     },
     "execution_count": 2,
     "metadata": {},
     "output_type": "execute_result"
    }
   ],
   "source": [
    "list\n"
   ]
  },
  {
   "cell_type": "code",
   "execution_count": 28,
   "id": "675e7be7-bea7-4dac-b06c-255dcb4f79d0",
   "metadata": {},
   "outputs": [
    {
     "data": {
      "text/plain": [
       "34357"
      ]
     },
     "execution_count": 28,
     "metadata": {},
     "output_type": "execute_result"
    }
   ],
   "source": [
    "list[0][1]"
   ]
  },
  {
   "cell_type": "code",
   "execution_count": 7,
   "id": "5a28d1b1-1c3e-49f2-90c5-13c48847e82b",
   "metadata": {},
   "outputs": [
    {
     "name": "stdout",
     "output_type": "stream",
     "text": [
      "34357\n",
      "27483\n",
      "25534\n",
      "24936\n"
     ]
    }
   ],
   "source": [
    "for i in range(len(list)):\n",
    "      print(list[i][1])\n",
    "        "
   ]
  },
  {
   "cell_type": "code",
   "execution_count": 43,
   "id": "d7a60b35-51eb-4851-b5de-6500af84667d",
   "metadata": {},
   "outputs": [],
   "source": []
  },
  {
   "cell_type": "raw",
   "id": "f43af649-e843-40fd-8b89-93eed5d5f879",
   "metadata": {},
   "source": [
    "Q2. Write a Python Program to find the squares of all the numbers in the given list of integers using\n",
    "lambda and map functions.\n",
    "\n",
    "\n",
    "[1, 2, 3, 4, 5, 6, 7, 8, 9, 10]"
   ]
  },
  {
   "cell_type": "code",
   "execution_count": 1,
   "id": "4750045e-0fa8-46de-a44f-85d26e8e7964",
   "metadata": {},
   "outputs": [],
   "source": [
    "l1=[1, 2, 3, 4, 5, 6, 7, 8, 9, 10]"
   ]
  },
  {
   "cell_type": "code",
   "execution_count": 2,
   "id": "9ece466e-2beb-405c-9102-c69d2d9d4491",
   "metadata": {},
   "outputs": [],
   "source": [
    "sq_no=list(map(lambda x : x**2, l1))"
   ]
  },
  {
   "cell_type": "code",
   "execution_count": 4,
   "id": "b5e45b19-7ea2-4a0a-9959-6329d41d39dc",
   "metadata": {},
   "outputs": [
    {
     "name": "stdout",
     "output_type": "stream",
     "text": [
      "[1, 4, 9, 16, 25, 36, 49, 64, 81, 100]\n"
     ]
    }
   ],
   "source": [
    "print(sq_no)"
   ]
  },
  {
   "cell_type": "raw",
   "id": "66e29896-cd7c-417e-9817-6e5b60302eca",
   "metadata": {},
   "source": [
    "Q3. Write a python program to convert the given list of integers into a tuple of strings. Use map and\n",
    "lambda functions\n",
    "\n",
    "\n",
    "Given String: [1, 2, 3, 4, 5, 6, 7, 8, 9, 10]\n",
    "\n",
    "Expected output: ('1', '2', '3', '4', '5', '6', '7', '8', '9', '10')"
   ]
  },
  {
   "cell_type": "code",
   "execution_count": 5,
   "id": "4bbdf422-2f97-44f1-9417-91d06d3e765a",
   "metadata": {},
   "outputs": [],
   "source": [
    "l2= [1, 2, 3, 4, 5, 6, 7, 8, 9, 10]"
   ]
  },
  {
   "cell_type": "code",
   "execution_count": 6,
   "id": "865fc9e6-5874-4e11-8ef3-7f86b5414dbb",
   "metadata": {},
   "outputs": [],
   "source": [
    "new=list(map(lambda x: str(x),l2))"
   ]
  },
  {
   "cell_type": "code",
   "execution_count": 7,
   "id": "1459fff4-68a1-4981-9e67-2fed47a6735f",
   "metadata": {},
   "outputs": [
    {
     "name": "stdout",
     "output_type": "stream",
     "text": [
      "['1', '2', '3', '4', '5', '6', '7', '8', '9', '10']\n"
     ]
    }
   ],
   "source": [
    "print(new)"
   ]
  },
  {
   "cell_type": "raw",
   "id": "58032a98-39ef-46ca-b31f-330733a7720e",
   "metadata": {},
   "source": [
    "Q4. Write a python program using reduce function to compute the product of a list containing numbers\n",
    "from 1 to 25"
   ]
  },
  {
   "cell_type": "code",
   "execution_count": 10,
   "id": "c002c7d5-2178-42a9-81f2-751459c43965",
   "metadata": {},
   "outputs": [],
   "source": [
    "from functools import reduce\n",
    "\n",
    "no= list(range(1,26))\n",
    "product=reduce(lambda x,y: x*y, no)"
   ]
  },
  {
   "cell_type": "code",
   "execution_count": 11,
   "id": "c25709ca-018c-4fa9-aad9-7a4854fa274a",
   "metadata": {},
   "outputs": [
    {
     "name": "stdout",
     "output_type": "stream",
     "text": [
      "[1, 2, 3, 4, 5, 6, 7, 8, 9, 10, 11, 12, 13, 14, 15, 16, 17, 18, 19, 20, 21, 22, 23, 24, 25]\n"
     ]
    }
   ],
   "source": [
    "print(no)"
   ]
  },
  {
   "cell_type": "raw",
   "id": "724e7227-b7ce-4728-bd2b-f25f9b082b84",
   "metadata": {},
   "source": [
    "Q5. Write a python program to filter the numbers in a given list that are divisible by 2 and 3 using the\n",
    "filter function.\n",
    "\n",
    "\n",
    "[2, 3, 6, 9, 27, 60, 90, 120, 55, 46]"
   ]
  },
  {
   "cell_type": "code",
   "execution_count": 12,
   "id": "471cdad6-7ef3-414d-a6c0-1be7facf5add",
   "metadata": {},
   "outputs": [],
   "source": [
    "l3=[2, 3, 6, 9, 27, 60, 90, 120, 55, 46]"
   ]
  },
  {
   "cell_type": "code",
   "execution_count": 22,
   "id": "2fd27e3b-9b4c-464d-9a8a-f5013ac30cf5",
   "metadata": {},
   "outputs": [],
   "source": [
    "new1=filter(lambda x: x%2 == 0 and x % 3 == 0 , l3)"
   ]
  },
  {
   "cell_type": "code",
   "execution_count": 33,
   "id": "cd2ccd18-8dcd-43c5-be9d-74f958d81449",
   "metadata": {},
   "outputs": [
    {
     "name": "stdout",
     "output_type": "stream",
     "text": [
      "<filter object at 0x7ff69875cfd0>\n"
     ]
    }
   ],
   "source": [
    "print(new1)"
   ]
  },
  {
   "cell_type": "raw",
   "id": "cf7ea2b9-b23c-4e3c-8f13-b1867258a647",
   "metadata": {},
   "source": [
    "Q6. Write a python program to find palindromes in the given list of strings using lambda and filter\n",
    "function.\n",
    "\n",
    "\n",
    "['python', 'php', 'aba', 'radar', 'level']"
   ]
  },
  {
   "cell_type": "code",
   "execution_count": 28,
   "id": "fdce594a-d043-4cd1-9128-a0a15c516ed1",
   "metadata": {},
   "outputs": [],
   "source": [
    "p=['python', 'php', 'aba', 'radar', 'level']"
   ]
  },
  {
   "cell_type": "code",
   "execution_count": 29,
   "id": "02b0982d-96b4-4d8b-9035-d8f4ff473b64",
   "metadata": {},
   "outputs": [],
   "source": [
    "palindromes=list(filter(lambda x:x==x[::-1],p))"
   ]
  },
  {
   "cell_type": "code",
   "execution_count": 30,
   "id": "211bdafa-10cf-4a8d-8532-4a3ccc7378fd",
   "metadata": {},
   "outputs": [
    {
     "name": "stdout",
     "output_type": "stream",
     "text": [
      "['php', 'aba', 'radar', 'level']\n"
     ]
    }
   ],
   "source": [
    "print(palindromes)"
   ]
  },
  {
   "cell_type": "code",
   "execution_count": null,
   "id": "6f4bd79b-ce39-4172-8367-d9cefe78ef54",
   "metadata": {},
   "outputs": [],
   "source": []
  }
 ],
 "metadata": {
  "kernelspec": {
   "display_name": "Python 3 (ipykernel)",
   "language": "python",
   "name": "python3"
  },
  "language_info": {
   "codemirror_mode": {
    "name": "ipython",
    "version": 3
   },
   "file_extension": ".py",
   "mimetype": "text/x-python",
   "name": "python",
   "nbconvert_exporter": "python",
   "pygments_lexer": "ipython3",
   "version": "3.10.8"
  }
 },
 "nbformat": 4,
 "nbformat_minor": 5
}
